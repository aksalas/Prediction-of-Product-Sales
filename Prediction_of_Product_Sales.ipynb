{
  "nbformat": 4,
  "nbformat_minor": 0,
  "metadata": {
    "colab": {
      "provenance": [],
      "authorship_tag": "ABX9TyOfcmOGAlZb/J7HB8YzVSN8",
      "include_colab_link": true
    },
    "kernelspec": {
      "name": "python3",
      "display_name": "Python 3"
    },
    "language_info": {
      "name": "python"
    }
  },
  "cells": [
    {
      "cell_type": "markdown",
      "metadata": {
        "id": "view-in-github",
        "colab_type": "text"
      },
      "source": [
        "<a href=\"https://colab.research.google.com/github/aksalas/Prediction-of-Product-Sales/blob/main/Prediction_of_Product_Sales.ipynb\" target=\"_parent\"><img src=\"https://colab.research.google.com/assets/colab-badge.svg\" alt=\"Open In Colab\"/></a>"
      ]
    },
    {
      "cell_type": "markdown",
      "source": [
        "# Prediction of Product Sales"
      ],
      "metadata": {
        "id": "W0WhyEnIcHpY"
      }
    },
    {
      "cell_type": "markdown",
      "source": [
        "- Author: Arvin Kenneth Salas"
      ],
      "metadata": {
        "id": "Yu81QvCIcPvG"
      }
    },
    {
      "cell_type": "markdown",
      "source": [
        "## Project Overview"
      ],
      "metadata": {
        "id": "72YpTxxucTKb"
      }
    },
    {
      "cell_type": "code",
      "source": [],
      "metadata": {
        "id": "yArkA912chS1"
      },
      "execution_count": null,
      "outputs": []
    },
    {
      "cell_type": "markdown",
      "source": [
        "## \"Load and Inspect Data\""
      ],
      "metadata": {
        "id": "D1pRkbYccYBA"
      }
    },
    {
      "cell_type": "code",
      "source": [],
      "metadata": {
        "id": "sL42o_gdci8T"
      },
      "execution_count": null,
      "outputs": []
    },
    {
      "cell_type": "markdown",
      "source": [
        "## \"Clean Data\"\n"
      ],
      "metadata": {
        "id": "wEXabHbicaYJ"
      }
    },
    {
      "cell_type": "code",
      "source": [],
      "metadata": {
        "id": "Wu3yojxbcjYV"
      },
      "execution_count": null,
      "outputs": []
    },
    {
      "cell_type": "markdown",
      "source": [
        "## \"Exploratory Data Analysis\"\n"
      ],
      "metadata": {
        "id": "ZN11xXuIcbSA"
      }
    },
    {
      "cell_type": "code",
      "source": [],
      "metadata": {
        "id": "VR9LWmX-cj8-"
      },
      "execution_count": null,
      "outputs": []
    },
    {
      "cell_type": "markdown",
      "source": [
        "## \"Feature Inspection\"\n"
      ],
      "metadata": {
        "id": "K-w1pTvVce8w"
      }
    },
    {
      "cell_type": "code",
      "source": [],
      "metadata": {
        "id": "Auzo4ZW4clTw"
      },
      "execution_count": null,
      "outputs": []
    }
  ]
}